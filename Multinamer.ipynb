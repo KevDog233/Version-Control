{
 "cells": [
  {
   "cell_type": "code",
   "execution_count": 2,
   "id": "f8d3a1ae-cfb7-45a4-afdf-20ec8bd0d656",
   "metadata": {},
   "outputs": [
    {
     "name": "stdin",
     "output_type": "stream",
     "text": [
      "Enter your name kevin\n",
      "Enter how many times you want us to repeat your name 2\n"
     ]
    },
    {
     "name": "stdout",
     "output_type": "stream",
     "text": [
      "Your name is: \n",
      "kevin\n",
      "kevin\n"
     ]
    }
   ],
   "source": [
    "name = input(\"Enter your name\")\n",
    "times = input(\"Enter how many times you want us to repeat your name\")\n",
    "times = int(times)\n",
    "print(\"Your name is: \")\n",
    "for x in range(0, times):\n",
    "    print(name)\n"
   ]
  },
  {
   "cell_type": "code",
   "execution_count": null,
   "id": "22e6ce7d-9974-430d-92c1-64d9782b5abe",
   "metadata": {},
   "outputs": [],
   "source": []
  }
 ],
 "metadata": {
  "kernelspec": {
   "display_name": "Python 3 (ipykernel)",
   "language": "python",
   "name": "python3"
  },
  "language_info": {
   "codemirror_mode": {
    "name": "ipython",
    "version": 3
   },
   "file_extension": ".py",
   "mimetype": "text/x-python",
   "name": "python",
   "nbconvert_exporter": "python",
   "pygments_lexer": "ipython3",
   "version": "3.12.4"
  }
 },
 "nbformat": 4,
 "nbformat_minor": 5
}
